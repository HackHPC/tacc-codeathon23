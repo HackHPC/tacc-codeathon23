{
  "cells": [
    {
      "cell_type": "code",
      "execution_count": null,
      "metadata": {
        "colab": {
          "base_uri": "https://localhost:8080/"
        },
        "id": "IuI82a6hrWhw",
        "outputId": "f842656d-d48e-44f3-fdd4-c7a9f26babd0"
      },
      "outputs": [
        {
          "name": "stdout",
          "output_type": "stream",
          "text": [
            "Hello World!\n"
          ]
        }
      ],
      "source": [
        "print(\"Hello World!\")"
      ]
    },
    {
      "cell_type": "code",
      "execution_count": null,
      "metadata": {
        "id": "J1mYStK0rsjV"
      },
      "outputs": [],
      "source": []
    },
    {
      "attachments": {},
      "cell_type": "markdown",
      "metadata": {
        "id": "tVzp4Db9FyE2"
      },
      "source": [
        "We have Joe!\n",
        "* Joe can get sick\n",
        "* If Joe gets sick, Joe will be sick for 5 days\n",
        "* After 5 days, Joe recovers and can no longer get sick\n",
        "\n",
        "Joe goes through:\n",
        "* Susceptible\n",
        "* Infected\n",
        "* Recovered\n",
        "\n",
        "\n"
      ]
    },
    {
      "attachments": {},
      "cell_type": "markdown",
      "metadata": {
        "id": "Pm6m_kC-FRZx"
      },
      "source": []
    },
    {
      "cell_type": "code",
      "execution_count": null,
      "metadata": {
        "colab": {
          "base_uri": "https://localhost:8080/"
        },
        "id": "NnkDFaJDG7A9",
        "outputId": "544c56b6-0ce5-41e7-fa6b-ccc7f7a8ea17"
      },
      "outputs": [
        {
          "name": "stdout",
          "output_type": "stream",
          "text": [
            "Joe licked the door knob Susceptible\n",
            "4\n",
            "Joe is Infected\n",
            "Joe is sick, day: 0\n",
            "Joe is sick, day: 1\n",
            "Joe is sick, day: 2\n",
            "Joe is sick, day: 3\n",
            "Joe is sick, day: 4\n",
            "Joe is now Recovered\n"
          ]
        }
      ],
      "source": [
        "import random\n",
        "\n",
        "state_of_joe = \"Susceptible\"\n",
        "state_of_jane = \"Susceptible\"\n",
        "print (\"Joe licked the door knob\", state_of_joe)\n",
        "\n",
        "\n",
        "# we need something to get us a probablity\n",
        "# we need a random number!\n",
        "chance_of_getting_sick = random.randint(0,100)\n",
        "print(chance_of_getting_sick)\n",
        "if (chance_of_getting_sick < 10):\n",
        "  state_of_joe = \"Infected\"\n",
        "  print (\"Joe is\", state_of_joe)\n",
        "\n",
        "if (state_of_joe == \"Infected\"):\n",
        "  for day in range(0, 5):\n",
        "    print (\"Joe is sick, day:\", day)\n",
        "\n",
        "  state_of_joe = \"Recovered\"\n",
        "  print (\"Joe is now\", state_of_joe)\n",
        "\n",
        "\n",
        "\n",
        "\n",
        "\n",
        "\n"
      ]
    }
  ],
  "metadata": {
    "colab": {
      "provenance": []
    },
    "kernelspec": {
      "display_name": "Python 3",
      "name": "python3"
    },
    "language_info": {
      "name": "python"
    }
  },
  "nbformat": 4,
  "nbformat_minor": 0
}
